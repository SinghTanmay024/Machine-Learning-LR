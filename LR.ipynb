{
  "nbformat": 4,
  "nbformat_minor": 0,
  "metadata": {
    "colab": {
      "name": "LR.ipynb",
      "provenance": [],
      "collapsed_sections": [],
      "authorship_tag": "ABX9TyN2OmCBSA+MWKRThZ/uKb16",
      "include_colab_link": true
    },
    "kernelspec": {
      "name": "python3",
      "display_name": "Python 3"
    },
    "language_info": {
      "name": "python"
    }
  },
  "cells": [
    {
      "cell_type": "markdown",
      "metadata": {
        "id": "view-in-github",
        "colab_type": "text"
      },
      "source": [
        "<a href=\"https://colab.research.google.com/github/SinghTanmay024/Machine-Learning-LR/blob/main/LR.ipynb\" target=\"_parent\"><img src=\"https://colab.research.google.com/assets/colab-badge.svg\" alt=\"Open In Colab\"/></a>"
      ]
    },
    {
      "cell_type": "code",
      "source": [
        "!git clone https://github.com/SinghTanmay024/Machine-Learning-LR.git"
      ],
      "metadata": {
        "colab": {
          "base_uri": "https://localhost:8080/"
        },
        "id": "_HEeDh3hAGp6",
        "outputId": "89505303-9dd7-45e1-eb32-3335a1ca1390"
      },
      "execution_count": 1,
      "outputs": [
        {
          "output_type": "stream",
          "name": "stdout",
          "text": [
            "Cloning into 'Machine-Learning-LR'...\n",
            "remote: Enumerating objects: 3, done.\u001b[K\n",
            "remote: Counting objects: 100% (3/3), done.\u001b[K\n",
            "remote: Compressing objects: 100% (3/3), done.\u001b[K\n",
            "remote: Total 3 (delta 0), reused 0 (delta 0), pack-reused 0\u001b[K\n",
            "Unpacking objects: 100% (3/3), done.\n"
          ]
        }
      ]
    },
    {
      "cell_type": "markdown",
      "source": [
        "# **Simple Linear Regression**"
      ],
      "metadata": {
        "id": "hVvWPoee7sNg"
      }
    },
    {
      "cell_type": "markdown",
      "source": [
        "# ***Importing the libraries***"
      ],
      "metadata": {
        "id": "GR7SLxD57rJg"
      }
    },
    {
      "cell_type": "code",
      "source": [
        "import numpy as np\n",
        "import matplotlib.pyplot as plt\n",
        "import pandas as pd"
      ],
      "metadata": {
        "id": "atz2961J7yU5"
      },
      "execution_count": null,
      "outputs": []
    },
    {
      "cell_type": "markdown",
      "source": [
        "# ***Importing the dataset***"
      ],
      "metadata": {
        "id": "VzjgEQKR747z"
      }
    },
    {
      "cell_type": "code",
      "source": [
        "dataset = pd.read_csv('name of the file.csv')\n",
        "X = dataset.iloc[ROW NUMER FROM WHERE TO START:TILL WHERE U WANT,COLUMN NUMBER FROM WERE U WANT TO START :COLUMN NUMBER TILL WHERE U WANR].values\n",
        "y = dataset.iloc[ROW NUMER FROM WHERE TO START:TILL WHERE U WANT,COLUMN NUMBER FROM WERE U WANT TO START :COLUMN NUMBER TILL WHERE U WANR].values\n",
        "\n",
        "#Example\n",
        "\n",
        "X = dataset.iloc[0:5,1:8].values\n",
        "y = dataset.iloc[:,:-1].values #nothing means all and -1 means only last"
      ],
      "metadata": {
        "id": "W-hHvXau701j"
      },
      "execution_count": null,
      "outputs": []
    },
    {
      "cell_type": "markdown",
      "source": [
        "# **Splitting the dataset into the Training set and Test set**"
      ],
      "metadata": {
        "id": "NkGB7Mo-8YZ6"
      }
    },
    {
      "cell_type": "code",
      "source": [
        "from sklearn.model_selection import train_test_split\n",
        "X_train, X_test, y_train, y_test = train_test_split(X, y, test_size = SIZE OF TEST DATA, random_state = 0)\n",
        "\n",
        "#Example\n",
        "\n",
        "from sklearn.model_selection import train_test_split\n",
        "X_train, X_test, y_train, y_test = train_test_split(X, y, test_size =0.8, random_state = 0)"
      ],
      "metadata": {
        "id": "BwSMNLik8U0q"
      },
      "execution_count": null,
      "outputs": []
    },
    {
      "cell_type": "markdown",
      "source": [
        "# ***Training the Simple Linear Regression model on the Training set***"
      ],
      "metadata": {
        "id": "Vl3O8fXa9ME-"
      }
    },
    {
      "cell_type": "code",
      "source": [
        "from sklearn.linear_model import LinearRegression\n",
        "regressor = LinearRegression()\n",
        "regressor.fit(X_train, y_train)"
      ],
      "metadata": {
        "id": "nne_lFzy9Ry2"
      },
      "execution_count": null,
      "outputs": []
    },
    {
      "cell_type": "markdown",
      "source": [
        "# *Predicting the Test set results*"
      ],
      "metadata": {
        "id": "DUlrevBQ9Vww"
      }
    },
    {
      "cell_type": "code",
      "source": [
        "y_pred = regressor.predict(X_test)"
      ],
      "metadata": {
        "id": "V1xggvnM9Vi2"
      },
      "execution_count": null,
      "outputs": []
    },
    {
      "cell_type": "markdown",
      "source": [
        "# ***Visualising the Test set results***"
      ],
      "metadata": {
        "id": "UR5qxt089ZWM"
      }
    },
    {
      "cell_type": "code",
      "source": [
        "plt.plot(X_train, regressor.predict(X_train), color = 'blue')\n",
        "plt.title('title u wana give')\n",
        "plt.xlabel('label u wana give on x axis')\n",
        "plt.ylabel('label u wana give on y axis')\n",
        "plt.show()"
      ],
      "metadata": {
        "id": "gMeWkX9l9TjZ"
      },
      "execution_count": null,
      "outputs": []
    }
  ]
}